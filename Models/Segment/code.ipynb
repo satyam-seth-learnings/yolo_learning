{
 "cells": [
  {
   "cell_type": "markdown",
   "id": "fd20cc76",
   "metadata": {},
   "source": [
    "# Segment Model"
   ]
  },
  {
   "cell_type": "code",
   "execution_count": 1,
   "id": "c8088b5c",
   "metadata": {},
   "outputs": [],
   "source": [
    "# import yolo\n",
    "from ultralytics import YOLO"
   ]
  },
  {
   "cell_type": "code",
   "execution_count": 2,
   "id": "4e7e10e2",
   "metadata": {},
   "outputs": [],
   "source": [
    "# Load a model\n",
    "model = YOLO('yolo11n-seg.pt')  # Load a pretrained YOLO"
   ]
  },
  {
   "cell_type": "markdown",
   "id": "2b802443",
   "metadata": {},
   "source": [
    "#### Perform Predication on an Image"
   ]
  },
  {
   "cell_type": "code",
   "execution_count": 3,
   "id": "7ce75af0",
   "metadata": {},
   "outputs": [
    {
     "name": "stdout",
     "output_type": "stream",
     "text": [
      "\n",
      "image 1/1 d:\\Programs\\satyam_seth_learnings\\yolo_learning\\Models\\Segment\\data\\img.jpg: 448x640 9 persons, 403.7ms\n",
      "Speed: 15.4ms preprocess, 403.7ms inference, 35.0ms postprocess per image at shape (1, 3, 448, 640)\n",
      "Results saved to \u001b[1mruns\\segment\\predict\u001b[0m\n",
      "1 label saved to runs\\segment\\predict\\labels\n"
     ]
    }
   ],
   "source": [
    "img_results = model.predict(source='data/img.jpg', save=True, save_txt=True)"
   ]
  },
  {
   "cell_type": "code",
   "execution_count": 4,
   "id": "b838e7a0",
   "metadata": {},
   "outputs": [],
   "source": [
    "# Display the results of the image prediction\n",
    "img_results[0].show()"
   ]
  }
 ],
 "metadata": {
  "kernelspec": {
   "display_name": ".venv",
   "language": "python",
   "name": "python3"
  },
  "language_info": {
   "codemirror_mode": {
    "name": "ipython",
    "version": 3
   },
   "file_extension": ".py",
   "mimetype": "text/x-python",
   "name": "python",
   "nbconvert_exporter": "python",
   "pygments_lexer": "ipython3",
   "version": "3.12.10"
  }
 },
 "nbformat": 4,
 "nbformat_minor": 5
}
