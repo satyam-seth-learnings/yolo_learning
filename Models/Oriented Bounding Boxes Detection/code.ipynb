{
 "cells": [
  {
   "cell_type": "markdown",
   "id": "fd20cc76",
   "metadata": {},
   "source": [
    "# Oriented Bounding Boxes Detection Model"
   ]
  },
  {
   "cell_type": "code",
   "execution_count": 1,
   "id": "c8088b5c",
   "metadata": {},
   "outputs": [],
   "source": [
    "# import yolo\n",
    "from ultralytics import YOLO"
   ]
  },
  {
   "cell_type": "code",
   "execution_count": 5,
   "id": "4e7e10e2",
   "metadata": {},
   "outputs": [
    {
     "name": "stdout",
     "output_type": "stream",
     "text": [
      "Downloading https://github.com/ultralytics/assets/releases/download/v8.3.0/yolo11n-obb.pt to 'yolo11n-obb.pt'...\n"
     ]
    },
    {
     "name": "stderr",
     "output_type": "stream",
     "text": [
      "100%|██████████| 5.53M/5.53M [00:00<00:00, 7.85MB/s]\n"
     ]
    }
   ],
   "source": [
    "# Load a model\n",
    "model = YOLO('yolo11n-obb.pt')  # Load a pretrained YOLO"
   ]
  },
  {
   "cell_type": "markdown",
   "id": "2b802443",
   "metadata": {},
   "source": [
    "#### Perform Predication on an Image"
   ]
  },
  {
   "cell_type": "code",
   "execution_count": 8,
   "id": "7ce75af0",
   "metadata": {},
   "outputs": [
    {
     "name": "stdout",
     "output_type": "stream",
     "text": [
      "\n",
      "image 1/1 d:\\Programs\\satyam_seth_learnings\\yolo_learning\\Models\\Oriented Bounding Boxes Detection\\data\\img.jpg: 736x1024 None537.1ms\n",
      "Speed: 24.7ms preprocess, 537.1ms inference, 13.9ms postprocess per image at shape (1, 3, 736, 1024)\n",
      "Results saved to \u001b[1mruns\\obb\\predict\u001b[0m\n",
      "1 label saved to runs\\obb\\predict\\labels\n"
     ]
    }
   ],
   "source": [
    "img_results = model.predict(source='data/img.jpg', save=True, save_txt=True)"
   ]
  },
  {
   "cell_type": "code",
   "execution_count": 9,
   "id": "b838e7a0",
   "metadata": {},
   "outputs": [],
   "source": [
    "# Display the results of the image prediction\n",
    "img_results[0].show()"
   ]
  }
 ],
 "metadata": {
  "kernelspec": {
   "display_name": ".venv",
   "language": "python",
   "name": "python3"
  },
  "language_info": {
   "codemirror_mode": {
    "name": "ipython",
    "version": 3
   },
   "file_extension": ".py",
   "mimetype": "text/x-python",
   "name": "python",
   "nbconvert_exporter": "python",
   "pygments_lexer": "ipython3",
   "version": "3.12.10"
  }
 },
 "nbformat": 4,
 "nbformat_minor": 5
}
